{
 "cells": [
  {
   "cell_type": "markdown",
   "id": "36d82f7c-0929-4fe9-8386-f2522dc59ea4",
   "metadata": {},
   "source": [
    "Q1. Create one variable containing following type of data:\n",
    "(i) string\n",
    "(ii) list\n",
    "(iii) float\n",
    "(iv) tuple\n",
    "\n",
    "\n"
   ]
  },
  {
   "cell_type": "code",
   "execution_count": 1,
   "id": "fec1e417-d525-48a6-89a7-5ba6cb377ca3",
   "metadata": {},
   "outputs": [],
   "source": [
    "a=\"adarsh\"\n",
    "b=[1,2,3]\n",
    "c=21.5\n",
    "d=(\"dsa\",\"development\")\n",
    "li_1=[a,b,c,d]\n"
   ]
  },
  {
   "cell_type": "code",
   "execution_count": 2,
   "id": "42c7fdbb-af69-4797-9f77-4b7f75ee9d8b",
   "metadata": {},
   "outputs": [
    {
     "name": "stdout",
     "output_type": "stream",
     "text": [
      "['adarsh', [1, 2, 3], 21.5, ('dsa', 'development')]\n"
     ]
    }
   ],
   "source": [
    "print(li_1)"
   ]
  },
  {
   "cell_type": "markdown",
   "id": "da9f9cfd-a936-43f0-be63-7a7efd4420b6",
   "metadata": {},
   "source": [
    "\n",
    "\n",
    "Q2. Given are some following variables containing data:\n",
    "(i) var1 = ‘ ‘\n",
    "(ii) var2 = ‘[ DS , ML , Python]’\n",
    "(iii) var3 = [ ‘DS’ , ’ML’ , ‘Python’ ]\n",
    "(iv) var4 = 1.\n",
    "What will be the data type of the above given variable.\n",
    "\n"
   ]
  },
  {
   "cell_type": "code",
   "execution_count": 5,
   "id": "de69eb6d-c139-40d9-a828-a935a8d77b7b",
   "metadata": {},
   "outputs": [],
   "source": [
    " var1 = ''\n",
    " var2 = '[ DS , ML , Python]'   \n",
    " var3 = ['DS' , 'ML' , 'Python']\n",
    " var4 = 1\n"
   ]
  },
  {
   "cell_type": "code",
   "execution_count": 7,
   "id": "2fc1d0bd-7493-4536-b77e-292c6a98866d",
   "metadata": {},
   "outputs": [
    {
     "name": "stdout",
     "output_type": "stream",
     "text": [
      "<class 'str'>\n",
      "<class 'str'>\n",
      "<class 'list'>\n",
      "<class 'int'>\n"
     ]
    }
   ],
   "source": [
    "print(type(var1))\n",
    "print(type(var2))\n",
    "print(type(var3))\n",
    "print(type(var4))"
   ]
  },
  {
   "cell_type": "markdown",
   "id": "e8dfdad9-7977-4e8f-aa8d-44d84fcdb40d",
   "metadata": {},
   "source": [
    "\n",
    "\n",
    "Q3. Explain the use of the following operators using an example:\n",
    "(i) /\n",
    "(ii) %\n",
    "(iii) //\n",
    "(iv) **\n",
    "\n"
   ]
  },
  {
   "cell_type": "markdown",
   "id": "e9772f04-d818-4d14-bb36-4bcf11a9a991",
   "metadata": {},
   "source": [
    "1-> / it is a division opertor used for divide of two operands\n",
    "2-> % modulus operator , use for finding remainder \n",
    "3-> // floor division operator, used for finding non decimal part of division\n",
    "4-> ** power operator , used for finding power of any operand"
   ]
  },
  {
   "cell_type": "code",
   "execution_count": 9,
   "id": "b69ca35e-e72a-44ed-bd17-6d4dd6a7ce83",
   "metadata": {},
   "outputs": [
    {
     "name": "stdout",
     "output_type": "stream",
     "text": [
      "2.5\n",
      "2\n",
      "3\n",
      "16\n"
     ]
    }
   ],
   "source": [
    "a=5/2\n",
    "b=6%4\n",
    "c=10//3\n",
    "d=2**4\n",
    "print(a)\n",
    "print(b)\n",
    "print(c)\n",
    "print(d)"
   ]
  },
  {
   "cell_type": "markdown",
   "id": "a8232cf5-6b84-49e3-8804-1a066af3bc95",
   "metadata": {
    "tags": []
   },
   "source": [
    "\n",
    "Q4. Create a list of length 10 of your choice containing multiple types of data. Using for loop print the\n",
    "element and its data type.\n",
    "\n"
   ]
  },
  {
   "cell_type": "code",
   "execution_count": 12,
   "id": "ed958ed9-7513-47fd-a681-d2e07ba0e493",
   "metadata": {},
   "outputs": [
    {
     "name": "stdout",
     "output_type": "stream",
     "text": [
      "my\n",
      "name\n",
      "is\n",
      "adarsh\n",
      "19\n",
      "years\n",
      "age\n",
      "(1, 2, 3)\n",
      "90.5\n",
      "False\n"
     ]
    }
   ],
   "source": [
    "lis_1=[\"my\",\"name\",\"is\",\"adarsh\",19,\"years\",\"age\",(1,2,3),90.5,False]\n",
    "for i in lis_1:\n",
    "    print(i)"
   ]
  },
  {
   "cell_type": "markdown",
   "id": "25d3a1ca-b385-4bc6-ae43-25f53ece3cca",
   "metadata": {},
   "source": [
    "\n",
    "Q5. Using a while loop, verify if the number A is purely divisible by number B and if so then how many\n",
    "times it can be divisible.\n"
   ]
  },
  {
   "cell_type": "code",
   "execution_count": 20,
   "id": "f2732020-5af2-44ea-b28b-de23307b6a5e",
   "metadata": {},
   "outputs": [
    {
     "name": "stdout",
     "output_type": "stream",
     "text": [
      "1\n"
     ]
    }
   ],
   "source": [
    "A=200\n",
    "B=20\n",
    "count = 0\n",
    "while A % B == 0:\n",
    "\tA = A // B\n",
    "\tcount += 1\n",
    "print(count)"
   ]
  },
  {
   "cell_type": "markdown",
   "id": "787da02d-51b2-4df1-81b9-6b75a31a9940",
   "metadata": {},
   "source": [
    "\n",
    "Q6. Create a list containing 25 int type data. Using for loop and if-else condition print if the element is\n",
    "divisible by 3 or not.\n"
   ]
  },
  {
   "cell_type": "code",
   "execution_count": 25,
   "id": "998f2c23-8d9d-4248-a31d-6cd0047fea61",
   "metadata": {},
   "outputs": [
    {
     "name": "stdout",
     "output_type": "stream",
     "text": [
      "[2, 1, 3, 2, 4, 9, 2, 8, 4, 8, 3, 4, 3, 6, 2, 1, 7, 3, 4, 1, 7, 5, 4, 8, 4]\n",
      "The element 2 is not divisible by 3.\n",
      "The element 1 is not divisible by 3.\n",
      "The element 3 is divisible by 3.\n",
      "The element 2 is not divisible by 3.\n",
      "The element 4 is not divisible by 3.\n",
      "The element 9 is divisible by 3.\n",
      "The element 2 is not divisible by 3.\n",
      "The element 8 is not divisible by 3.\n",
      "The element 4 is not divisible by 3.\n",
      "The element 8 is not divisible by 3.\n",
      "The element 3 is divisible by 3.\n",
      "The element 4 is not divisible by 3.\n",
      "The element 3 is divisible by 3.\n",
      "The element 6 is divisible by 3.\n",
      "The element 2 is not divisible by 3.\n",
      "The element 1 is not divisible by 3.\n",
      "The element 7 is not divisible by 3.\n",
      "The element 3 is divisible by 3.\n",
      "The element 4 is not divisible by 3.\n",
      "The element 1 is not divisible by 3.\n",
      "The element 7 is not divisible by 3.\n",
      "The element 5 is not divisible by 3.\n",
      "The element 4 is not divisible by 3.\n",
      "The element 8 is not divisible by 3.\n",
      "The element 4 is not divisible by 3.\n"
     ]
    }
   ],
   "source": [
    "import random\n",
    "\n",
    "l1 = []\n",
    "for i in range(0, 25):\n",
    "    a = random.randint(0, 9)\n",
    "    l1.append(a)\n",
    "print(l1)\n",
    "\n",
    "#second part\n",
    "\n",
    "for i in l1:\n",
    "    if i % 3 == 0:\n",
    "        print(f\"The element {i} is divisible by 3.\")\n",
    "    else:\n",
    "        print(f\"The element {i} is not divisible by 3.\")"
   ]
  },
  {
   "cell_type": "markdown",
   "id": "585922e0-8fc7-4e2f-a914-aadfd61757de",
   "metadata": {},
   "source": [
    "\n",
    "\n",
    "Q7. What do you understand about mutable and immutable data types? Give examples for both showing\n",
    "this property.\n"
   ]
  },
  {
   "cell_type": "markdown",
   "id": "eaa9f02a-f6ca-41c1-a806-692414e449f9",
   "metadata": {},
   "source": [
    "mutable data types- those data type which can be changed or modified \n",
    "example- list \n",
    "\n",
    "immutable data type- those data types which can not be changed , modified or re assigned.\n",
    "example-string"
   ]
  },
  {
   "cell_type": "code",
   "execution_count": 27,
   "id": "235dffbd-fea7-4f50-8440-3e18e8abedba",
   "metadata": {},
   "outputs": [
    {
     "name": "stdout",
     "output_type": "stream",
     "text": [
      "9\n",
      "10\n"
     ]
    }
   ],
   "source": [
    "print(l1[5])\n",
    "#modified\n",
    "l1[5]=10\n",
    "print(l1[5])\n"
   ]
  },
  {
   "cell_type": "code",
   "execution_count": 30,
   "id": "31dd1d7a-0eb9-4236-8e8d-74fe8503032a",
   "metadata": {},
   "outputs": [
    {
     "name": "stdout",
     "output_type": "stream",
     "text": [
      "h\n"
     ]
    },
    {
     "ename": "TypeError",
     "evalue": "'str' object does not support item assignment",
     "output_type": "error",
     "traceback": [
      "\u001b[0;31m---------------------------------------------------------------------------\u001b[0m",
      "\u001b[0;31mTypeError\u001b[0m                                 Traceback (most recent call last)",
      "Cell \u001b[0;32mIn[30], line 4\u001b[0m\n\u001b[1;32m      2\u001b[0m \u001b[38;5;28mprint\u001b[39m(a[\u001b[38;5;241m5\u001b[39m])\n\u001b[1;32m      3\u001b[0m \u001b[38;5;66;03m#lets try to modify \u001b[39;00m\n\u001b[0;32m----> 4\u001b[0m \u001b[43ma\u001b[49m\u001b[43m[\u001b[49m\u001b[38;5;241;43m5\u001b[39;49m\u001b[43m]\u001b[49m\u001b[38;5;241m=\u001b[39m\u001b[38;5;124m'\u001b[39m\u001b[38;5;124mk\u001b[39m\u001b[38;5;124m'\u001b[39m\n\u001b[1;32m      5\u001b[0m \u001b[38;5;28mprint\u001b[39m(a[\u001b[38;5;241m5\u001b[39m])\n",
      "\u001b[0;31mTypeError\u001b[0m: 'str' object does not support item assignment"
     ]
    }
   ],
   "source": [
    "a=\"adarsh\"\n",
    "print(a[5])\n",
    "#lets try to modify \n",
    "a[5]='k'\n",
    "print(a[5])"
   ]
  },
  {
   "cell_type": "code",
   "execution_count": null,
   "id": "20ef233c-561e-4d17-81a6-26c32f3dfcb8",
   "metadata": {},
   "outputs": [],
   "source": []
  }
 ],
 "metadata": {
  "kernelspec": {
   "display_name": "Python 3 (ipykernel)",
   "language": "python",
   "name": "python3"
  },
  "language_info": {
   "codemirror_mode": {
    "name": "ipython",
    "version": 3
   },
   "file_extension": ".py",
   "mimetype": "text/x-python",
   "name": "python",
   "nbconvert_exporter": "python",
   "pygments_lexer": "ipython3",
   "version": "3.10.8"
  }
 },
 "nbformat": 4,
 "nbformat_minor": 5
}
