{
 "cells": [
  {
   "cell_type": "markdown",
   "id": "dd6cc773-7e85-47af-9069-4c8edcc95dcd",
   "metadata": {},
   "source": [
    "Q1, Create a vehicle class with an init method having instance variables as name_of_vehicle, max_speed\n",
    "and average_of_vehicle.\n"
   ]
  },
  {
   "cell_type": "code",
   "execution_count": 1,
   "id": "92760d73-5f61-4b27-8c46-df8105b13c95",
   "metadata": {},
   "outputs": [
    {
     "data": {
      "text/plain": [
       "'audi'"
      ]
     },
     "execution_count": 1,
     "metadata": {},
     "output_type": "execute_result"
    }
   ],
   "source": [
    "class vehicle:\n",
    "     def __init__(self,name_of_vehicle,max_speed,average_of_vehicle):\n",
    "        self.name_of_vehicle=name_of_vehicle\n",
    "        self.max_speed=max_speed\n",
    "        self.average_of_vehicle=average_of_vehicle\n",
    "obj_vehicle=vehicle(\"audi\",70,60)\n",
    "obj_vehicle.name_of_vehicle"
   ]
  },
  {
   "cell_type": "markdown",
   "id": "23209065-4ccc-4534-860b-c7fed739e2c7",
   "metadata": {},
   "source": [
    "Q2. Create a child class car from the vehicle class created in Que 1, which will inherit the vehicle class.\n",
    "Create a method named seating_capacity which takes capacity as an argument and returns the name of\n",
    "the vehicle and its seating capacity."
   ]
  },
  {
   "cell_type": "code",
   "execution_count": 38,
   "id": "bfa1edd5-ddca-4919-b326-5f926dea51c0",
   "metadata": {},
   "outputs": [
    {
     "name": "stdout",
     "output_type": "stream",
     "text": [
      "BMW has a seating capacity of 21 passengers\n"
     ]
    }
   ],
   "source": [
    "class Vehicle:\n",
    "    def __init__(self, name_of_vehicle, max_speed, average_of_vehicle):\n",
    "        self.name_of_vehicle = name_of_vehicle\n",
    "        self.max_speed = max_speed\n",
    "        self.average_of_vehicle = average_of_vehicle\n",
    "\n",
    "class Car(Vehicle):\n",
    "    def seating_capacity(self, capacity):\n",
    "        self.capacity = capacity\n",
    "        return f\"{self.name_of_vehicle} has a seating capacity of {capacity} passengers\"\n",
    "\n",
    "obj_car = Car(\"BMW\", 70, 80)\n",
    "print(obj_car.seating_capacity(21))\n"
   ]
  },
  {
   "cell_type": "markdown",
   "id": "5babcb4a-7d1e-4831-90dc-436fc7399c20",
   "metadata": {},
   "source": [
    "Q3. What is multiple inheritance? Write a python code to demonstrate multiple inheritance."
   ]
  },
  {
   "cell_type": "code",
   "execution_count": 46,
   "id": "739ef114-ec80-48f7-a486-7f5a00fc7102",
   "metadata": {},
   "outputs": [
    {
     "name": "stdout",
     "output_type": "stream",
     "text": [
      "I am a class 1 method\n"
     ]
    }
   ],
   "source": [
    "#multiple inheritence  is when a child class is derived from two or more parent class, they derive their both properties\n",
    "class vehicle:\n",
    "    def fun_1(self):\n",
    "        print(\"I am a class 1 method\")\n",
    "class motor:\n",
    "    def fun_2(self):\n",
    "        print(\"I am from class 2\")\n",
    "class bike(vehicle,motor):\n",
    "    pass\n",
    "honda=bike()\n",
    "honda.fun_1()"
   ]
  },
  {
   "cell_type": "markdown",
   "id": "20305fb2-c823-4939-909b-a092b3ceb682",
   "metadata": {},
   "source": [
    "Q4. What are getter and setter in python? Create a class and create a getter and a setter method in this\n",
    "class."
   ]
  },
  {
   "cell_type": "code",
   "execution_count": 48,
   "id": "89b62baa-976d-42af-8e60-cc0badd26433",
   "metadata": {},
   "outputs": [
    {
     "name": "stdout",
     "output_type": "stream",
     "text": [
      "Name: Alice\n",
      "Updated Name: Bob\n",
      "Age: 20\n",
      "Updated Age: 25\n",
      "Age cannot be negative.\n"
     ]
    }
   ],
   "source": [
    "#getter and setter methods are used to control access to an object's attributes (variables) within a class. They allow you to get and set the values of these attributes while providing an additional layer of encapsulation\n",
    "class Student:\n",
    "    def __init__(self, name, age):\n",
    "        self._name = name  \n",
    "        self._age = age\n",
    "\n",
    "    def get_name(self):\n",
    "        return self._name\n",
    "\n",
    "    def set_name(self, name):\n",
    "        self._name = name\n",
    "\n",
    "    def get_age(self):\n",
    "        return self._age\n",
    "\n",
    "    def set_age(self, age):\n",
    "        if age >= 0:\n",
    "            self._age = age\n",
    "        else:\n",
    "            print(\"Age cannot be negative.\")\n",
    "\n",
    "student = Student(\"Alice\", 20)\n",
    "print(\"Name:\", student.get_name())\n",
    "student.set_name(\"Bob\")\n",
    "print(\"Updated Name:\", student.get_name())\n",
    "print(\"Age:\", student.get_age())\n",
    "student.set_age(25)\n",
    "print(\"Updated Age:\", student.get_age())\n",
    "student.set_age(-5)\n"
   ]
  },
  {
   "cell_type": "markdown",
   "id": "200bb082-5477-46b9-8f15-438f3c3a8bec",
   "metadata": {},
   "source": [
    "Q5.What is method overriding in python? Write a python code to demonstrate method overriding.\n",
    "\n",
    "\n",
    "\n"
   ]
  },
  {
   "cell_type": "code",
   "execution_count": 51,
   "id": "01859be2-75c4-42f5-a18b-c3355bd2aa97",
   "metadata": {},
   "outputs": [
    {
     "ename": "NameError",
     "evalue": "name 'val' is not defined",
     "output_type": "error",
     "traceback": [
      "\u001b[0;31m---------------------------------------------------------------------------\u001b[0m",
      "\u001b[0;31mNameError\u001b[0m                                 Traceback (most recent call last)",
      "Cell \u001b[0;32mIn[51], line 13\u001b[0m\n\u001b[1;32m     11\u001b[0m son\u001b[38;5;241m=\u001b[39mchild(\u001b[38;5;124m\"\u001b[39m\u001b[38;5;124mmohan\u001b[39m\u001b[38;5;124m\"\u001b[39m)\n\u001b[1;32m     12\u001b[0m father\u001b[38;5;241m=\u001b[39mparents(\u001b[38;5;124m\"\u001b[39m\u001b[38;5;124mSohan\u001b[39m\u001b[38;5;124m\"\u001b[39m)\n\u001b[0;32m---> 13\u001b[0m \u001b[43mson\u001b[49m\u001b[38;5;241;43m.\u001b[39;49m\u001b[43mshow\u001b[49m\u001b[43m(\u001b[49m\u001b[43m)\u001b[49m\n",
      "Cell \u001b[0;32mIn[51], line 10\u001b[0m, in \u001b[0;36mchild.show\u001b[0;34m(self)\u001b[0m\n\u001b[1;32m      9\u001b[0m \u001b[38;5;28;01mdef\u001b[39;00m \u001b[38;5;21mshow\u001b[39m(\u001b[38;5;28mself\u001b[39m):\n\u001b[0;32m---> 10\u001b[0m     \u001b[38;5;28;01mreturn\u001b[39;00m \u001b[38;5;124mf\u001b[39m\u001b[38;5;124m\"\u001b[39m\u001b[38;5;124mi am child of\u001b[39m\u001b[38;5;132;01m{\u001b[39;00m\u001b[43mval\u001b[49m\u001b[38;5;132;01m}\u001b[39;00m\u001b[38;5;124m\"\u001b[39m\n",
      "\u001b[0;31mNameError\u001b[0m: name 'val' is not defined"
     ]
    }
   ],
   "source": [
    "class parents:\n",
    "    def __init__(self,val):\n",
    "        self.val=val\n",
    "    def show(self):\n",
    "        return self.val\n",
    "class child:\n",
    "    def __init__(self,val):\n",
    "        self.val=val\n",
    "    def show(self):\n",
    "        return f\"i am child of{val}\"\n",
    "son=child(\"mohan\")\n",
    "father=parents(\"Sohan\")\n",
    "son.show()\n",
    "\n"
   ]
  },
  {
   "cell_type": "code",
   "execution_count": null,
   "id": "4deab785-cb16-42ef-b9b7-faaaef7fe0bb",
   "metadata": {},
   "outputs": [],
   "source": []
  }
 ],
 "metadata": {
  "kernelspec": {
   "display_name": "Python 3 (ipykernel)",
   "language": "python",
   "name": "python3"
  },
  "language_info": {
   "codemirror_mode": {
    "name": "ipython",
    "version": 3
   },
   "file_extension": ".py",
   "mimetype": "text/x-python",
   "name": "python",
   "nbconvert_exporter": "python",
   "pygments_lexer": "ipython3",
   "version": "3.10.8"
  }
 },
 "nbformat": 4,
 "nbformat_minor": 5
}
