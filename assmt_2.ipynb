{
 "cells": [
  {
   "cell_type": "markdown",
   "id": "c7940682-a125-41dc-889c-4098bd304db0",
   "metadata": {},
   "source": [
    "Week 2- assignment 2 python data types"
   ]
  },
  {
   "cell_type": "markdown",
   "id": "89b87696-01d7-4ed2-a421-48ac09596f6f",
   "metadata": {},
   "source": [
    "Q1. How do you comment code in Python? What are the different types of comments?\n"
   ]
  },
  {
   "cell_type": "markdown",
   "id": "0125a0c4-4172-4ca5-b3c3-dfdf1be07fc9",
   "metadata": {},
   "source": [
    "comments are the lines which the python interpretor ignores while executing the program\n",
    "we can have two types of comment in python \n",
    "1.Single line comment #\n",
    "2.multiline comment '''cpmment '''"
   ]
  },
  {
   "cell_type": "markdown",
   "id": "15a3fcaf-cc64-49d2-a566-e326a685dc73",
   "metadata": {},
   "source": [
    "Q2. What are variables in Python? How do you declare and assign values to variables?\n"
   ]
  },
  {
   "cell_type": "markdown",
   "id": "346720ca-9ed3-4ea2-b353-663df34c949d",
   "metadata": {},
   "source": [
    "variables are the containers which stores data in them and later used in the programs as an identifiers\n",
    "we didn't need to declare variable data type in python unlike c/c++\n",
    "eg-\n",
    "a=12\n",
    "s=\"sudh\"\n",
    "f=2.2\n",
    "etc"
   ]
  },
  {
   "cell_type": "markdown",
   "id": "170d02ee-b0e6-4b22-8267-f5e7c92cce37",
   "metadata": {},
   "source": [
    "Q3. How do you convert one data type to another in Python?"
   ]
  },
  {
   "cell_type": "markdown",
   "id": "2926b786-3381-48b7-a503-13aae4b56621",
   "metadata": {},
   "source": [
    "we can use type casting method for converting one data type to another in python\n",
    "eg-"
   ]
  },
  {
   "cell_type": "code",
   "execution_count": 1,
   "id": "ac88ba00-1013-41d3-8758-7105857628f7",
   "metadata": {},
   "outputs": [
    {
     "name": "stdout",
     "output_type": "stream",
     "text": [
      "2\n"
     ]
    }
   ],
   "source": [
    "a=2.2\n",
    "b=int(a)\n",
    "print(b)"
   ]
  },
  {
   "cell_type": "markdown",
   "id": "503d0ed0-8a25-45c8-a403-d164ec456c0e",
   "metadata": {},
   "source": [
    "Q4. How do you write and execute a Python script from the command line?"
   ]
  },
  {
   "cell_type": "markdown",
   "id": "ea1226f1-530f-4990-b2f3-dc8bc921a511",
   "metadata": {},
   "source": [
    "for executing a python program in command promt\n",
    "1-open cmd promp\n",
    "2-write python\n",
    "3-write code and hit enter"
   ]
  },
  {
   "cell_type": "markdown",
   "id": "5d758a21-43cd-4ee5-ae15-19bc7072cbc0",
   "metadata": {},
   "source": [
    "Q5. Given a list my_list = [1, 2, 3, 4, 5], write the code to slice the list and obtain the sub-list [2, 3]."
   ]
  },
  {
   "cell_type": "code",
   "execution_count": 3,
   "id": "efe7e9df-593a-4ec4-b5d6-c8dbf9e30eb4",
   "metadata": {},
   "outputs": [
    {
     "name": "stdout",
     "output_type": "stream",
     "text": [
      "[2, 3]\n"
     ]
    }
   ],
   "source": [
    "my_list = [1, 2, 3, 4, 5]\n",
    "print(my_list[1:3])"
   ]
  },
  {
   "cell_type": "markdown",
   "id": "581237f7-6f64-4642-96bf-6a1e2e17f109",
   "metadata": {},
   "source": [
    "Q6. What is a complex number in mathematics, and how is it represented in Python?"
   ]
  },
  {
   "cell_type": "markdown",
   "id": "4a06aaf4-da48-40e4-95b8-92a4b9b8bd49",
   "metadata": {},
   "source": [
    "complex numbers are those numbers which are havng a imaginary part in them.\n",
    "eg- a+ib\n",
    "->5+7i\n",
    "to represent it in python swe use j "
   ]
  },
  {
   "cell_type": "code",
   "execution_count": 4,
   "id": "765fc95b-bbc9-42fb-a95c-3b5e367f1ab6",
   "metadata": {},
   "outputs": [
    {
     "name": "stdout",
     "output_type": "stream",
     "text": [
      "<class 'complex'>\n"
     ]
    }
   ],
   "source": [
    "a=7+8j\n",
    "print(type(a))"
   ]
  },
  {
   "cell_type": "markdown",
   "id": "bcc5bdfb-acd0-46e1-afac-5ac646416d49",
   "metadata": {},
   "source": [
    "Q7. What is the correct way to declare a variable named age and assign the value 25 to it?"
   ]
  },
  {
   "cell_type": "code",
   "execution_count": 5,
   "id": "e495c326-afb7-418f-bece-e80c04dc0955",
   "metadata": {},
   "outputs": [
    {
     "name": "stdout",
     "output_type": "stream",
     "text": [
      "25\n"
     ]
    }
   ],
   "source": [
    "age =25\n",
    "print(age)"
   ]
  },
  {
   "cell_type": "markdown",
   "id": "da3d727a-6ff6-4a55-8187-8da41578a799",
   "metadata": {},
   "source": [
    "Q8. Declare a variable named price and assign the value 9.99 to it. What data type does this variable\n",
    "belong to?"
   ]
  },
  {
   "cell_type": "code",
   "execution_count": 6,
   "id": "272bb9da-8a6a-4b0b-ad99-cedb72b026cf",
   "metadata": {},
   "outputs": [
    {
     "data": {
      "text/plain": [
       "float"
      ]
     },
     "execution_count": 6,
     "metadata": {},
     "output_type": "execute_result"
    }
   ],
   "source": [
    "price=9.99\n",
    "type(price)"
   ]
  },
  {
   "cell_type": "markdown",
   "id": "7635d35a-f0d1-4591-981a-cb6354841bd4",
   "metadata": {},
   "source": [
    "Q9. Create a variable named name and assign your full name to it as a string. How would you print the\n",
    "value of this variable?"
   ]
  },
  {
   "cell_type": "code",
   "execution_count": 7,
   "id": "72c283f9-3861-4809-b017-44e7e5509c8e",
   "metadata": {},
   "outputs": [
    {
     "name": "stdout",
     "output_type": "stream",
     "text": [
      "adarsh pandey\n"
     ]
    }
   ],
   "source": [
    "name=\"adarsh pandey\"\n",
    "print(name)"
   ]
  },
  {
   "cell_type": "markdown",
   "id": "3191dfaf-93f6-4b5c-90d7-fb380bb85249",
   "metadata": {},
   "source": [
    "Q10. Given the string \"Hello, World!\", extract the substring \"World\".\n"
   ]
  },
  {
   "cell_type": "code",
   "execution_count": 11,
   "id": "7eccfda7-4596-43cf-aac0-9613ae6722cb",
   "metadata": {},
   "outputs": [
    {
     "name": "stdout",
     "output_type": "stream",
     "text": [
      "World\n"
     ]
    }
   ],
   "source": [
    "s= \"Hello, World!\"\n",
    "print(s[7:len(s)-1])"
   ]
  },
  {
   "cell_type": "markdown",
   "id": "b6d6b0c5-0af3-43b4-8e5b-51f564a39ddf",
   "metadata": {},
   "source": [
    "Q11. Create a variable named \"is_student\" and assign it a boolean value indicating whether you are\n",
    "currently a student or not."
   ]
  },
  {
   "cell_type": "code",
   "execution_count": 12,
   "id": "6d9f08bc-0485-47ee-aae8-3077dfdb03b2",
   "metadata": {},
   "outputs": [
    {
     "name": "stdout",
     "output_type": "stream",
     "text": [
      "I am a student\n"
     ]
    }
   ],
   "source": [
    "is_student=True\n",
    "if is_student:\n",
    "    print('I am a student')"
   ]
  }
 ],
 "metadata": {
  "kernelspec": {
   "display_name": "Python 3 (ipykernel)",
   "language": "python",
   "name": "python3"
  },
  "language_info": {
   "codemirror_mode": {
    "name": "ipython",
    "version": 3
   },
   "file_extension": ".py",
   "mimetype": "text/x-python",
   "name": "python",
   "nbconvert_exporter": "python",
   "pygments_lexer": "ipython3",
   "version": "3.10.8"
  }
 },
 "nbformat": 4,
 "nbformat_minor": 5
}
